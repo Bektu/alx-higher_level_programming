{
  "nbformat": 4,
  "nbformat_minor": 0,
  "metadata": {
    "colab": {
      "provenance": [],
      "include_colab_link": true
    },
    "kernelspec": {
      "name": "python3",
      "display_name": "Python 3"
    },
    "language_info": {
      "name": "python"
    }
  },
  "cells": [
    {
      "cell_type": "markdown",
      "metadata": {
        "id": "view-in-github",
        "colab_type": "text"
      },
      "source": [
        "<a href=\"https://colab.research.google.com/github/Bektu/alx-higher_level_programming/blob/main/lab4_(1).ipynb\" target=\"_parent\"><img src=\"https://colab.research.google.com/assets/colab-badge.svg\" alt=\"Open In Colab\"/></a>"
      ]
    },
    {
      "cell_type": "markdown",
      "source": [
        "# Laboratory 4: File Input/Output\n",
        "\n",
        "*Prerequisites: as in lab3, +file i/o, type conversion*\n",
        "\n",
        "[Socratica: working with text files](https://youtu.be/4mX0uPQFLDU)\n",
        "\n",
        "## Training\n",
        "\n",
        "Create a the following functions:\n",
        "\n",
        "1. A function `line_averages(filename)` that takes a string filename which contains the name of a file to be processed. The function should open and read that file. The file is expected to contain numbers that are separated by commas (the format is known as a comma-separated-value file, short csv). The function should compute the average value for every line, and return the average values in a list. For example, if we call line_averages(\"data.csv\") and file data.csv reads:\n",
        "  ```\n",
        "  1,2\n",
        "  1,1,1,1\n",
        "  -1,0,1\n",
        "  42,17\n",
        "  ```\n",
        "then the function should return the list `[1.5, 1.0, 0.0, 29.5]`.\n",
        "\n",
        "2. The [U.S. National Oceanic and Atmospheric Administration (NOAA)](http://www.noaa.gov/) provides observations of current weather conditions around the globe. Using the special 4-letter station code for Hamburg Airport — which is is EDDH — we can find quantitative information on current weather conditions by pointing a web browser to: http://tgftp.nws.noaa.gov/data/observations/metar/decoded/EDDH.TXT\n",
        "\n",
        "  We provide the following function which downloads this webpage and returns it as a string:\n",
        "  ```\n",
        "  import urllib\n",
        "\n",
        "  def noaa_string():\n",
        "      \"\"\"Fetch from the Internet and return the current NOAA METAR\n",
        "      weather observation data for EDDH (Hamburg Airport) as a string.\n",
        "      \"\"\"\n",
        "      url = \"http://tgftp.nws.noaa.gov/data/observations/metar/decoded/EDDH.TXT\"\n",
        "      noaa_data_string = urllib.request.urlopen(url).read()\n",
        "      return noaa_data_string.decode(\"utf-8\")\n",
        "  ```\n",
        "  The library `urllib.request` allows to access a webpage like a file through its urlopen() function, and you should include import urllib.request at the beginning of your code.\n",
        "\n",
        "  Call the function noaa_string from the Python prompt and inspect the return value.\n",
        "\n",
        "  Your task is to write a function `noaa_temperature(s)` which should take a string s as returned from noaa_string() as the input argument, extract the temperature in degree Celsius from the string, and return this temperature as an integer number:\n",
        "\n",
        "    ```\n",
        "    In [ ]: noaa_temperature(noaa_string()\n",
        "    Out[ ]: 10\n",
        "    ```\n",
        "\n",
        "  NOAA may at times change the number and order of lines in the data, but you can assume that the format of the line containing the temperature data does not change."
      ],
      "metadata": {
        "id": "hZ382c4q3X5X"
      }
    },
    {
      "cell_type": "markdown",
      "source": [],
      "metadata": {
        "id": "WSrRuyf16qRM"
      }
    },
    {
      "cell_type": "code",
      "source": [
        "def line_averages(file1):\n",
        "  f = open('file1','r')\n",
        "  f.readlines()\n",
        "  f.close()"
      ],
      "metadata": {
        "id": "eqn63pUONL_t"
      },
      "execution_count": 10,
      "outputs": []
    },
    {
      "cell_type": "code",
      "source": [
        "y = line_averages('data.csv')"
      ],
      "metadata": {
        "colab": {
          "base_uri": "https://localhost:8080/",
          "height": 258
        },
        "id": "cDrFkI1fNbHk",
        "outputId": "4698c020-f836-4827-e010-8a3a595640c8"
      },
      "execution_count": 11,
      "outputs": [
        {
          "output_type": "error",
          "ename": "FileNotFoundError",
          "evalue": "[Errno 2] No such file or directory: 'file1'",
          "traceback": [
            "\u001b[0;31m---------------------------------------------------------------------------\u001b[0m",
            "\u001b[0;31mFileNotFoundError\u001b[0m                         Traceback (most recent call last)",
            "\u001b[0;32m<ipython-input-11-624a1eb556d2>\u001b[0m in \u001b[0;36m<cell line: 1>\u001b[0;34m()\u001b[0m\n\u001b[0;32m----> 1\u001b[0;31m \u001b[0my\u001b[0m \u001b[0;34m=\u001b[0m \u001b[0mline_averages\u001b[0m\u001b[0;34m(\u001b[0m\u001b[0;34m'data.csv'\u001b[0m\u001b[0;34m)\u001b[0m\u001b[0;34m\u001b[0m\u001b[0;34m\u001b[0m\u001b[0m\n\u001b[0m",
            "\u001b[0;32m<ipython-input-10-a5397b968570>\u001b[0m in \u001b[0;36mline_averages\u001b[0;34m(file1)\u001b[0m\n\u001b[1;32m      1\u001b[0m \u001b[0;32mdef\u001b[0m \u001b[0mline_averages\u001b[0m\u001b[0;34m(\u001b[0m\u001b[0mfile1\u001b[0m\u001b[0;34m)\u001b[0m\u001b[0;34m:\u001b[0m\u001b[0;34m\u001b[0m\u001b[0;34m\u001b[0m\u001b[0m\n\u001b[0;32m----> 2\u001b[0;31m   \u001b[0mf\u001b[0m \u001b[0;34m=\u001b[0m \u001b[0mopen\u001b[0m\u001b[0;34m(\u001b[0m\u001b[0;34m'file1'\u001b[0m\u001b[0;34m,\u001b[0m\u001b[0;34m'r'\u001b[0m\u001b[0;34m)\u001b[0m\u001b[0;34m\u001b[0m\u001b[0;34m\u001b[0m\u001b[0m\n\u001b[0m\u001b[1;32m      3\u001b[0m   \u001b[0mf\u001b[0m\u001b[0;34m.\u001b[0m\u001b[0mreadlines\u001b[0m\u001b[0;34m(\u001b[0m\u001b[0;34m)\u001b[0m\u001b[0;34m\u001b[0m\u001b[0;34m\u001b[0m\u001b[0m\n\u001b[1;32m      4\u001b[0m   \u001b[0mf\u001b[0m\u001b[0;34m.\u001b[0m\u001b[0mclose\u001b[0m\u001b[0;34m(\u001b[0m\u001b[0;34m)\u001b[0m\u001b[0;34m\u001b[0m\u001b[0;34m\u001b[0m\u001b[0m\n",
            "\u001b[0;31mFileNotFoundError\u001b[0m: [Errno 2] No such file or directory: 'file1'"
          ]
        }
      ]
    },
    {
      "cell_type": "code",
      "source": [],
      "metadata": {
        "id": "xyP10P3JSFHV"
      },
      "execution_count": null,
      "outputs": []
    },
    {
      "cell_type": "code",
      "source": [],
      "metadata": {
        "id": "49ajXkEqNblS"
      },
      "execution_count": null,
      "outputs": []
    }
  ]
}